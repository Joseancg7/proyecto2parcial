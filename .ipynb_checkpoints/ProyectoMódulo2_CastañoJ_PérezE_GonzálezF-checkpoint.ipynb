{
 "cells": [
  {
   "cell_type": "markdown",
   "metadata": {},
   "source": [
    "# Cinética de producción de etanol"
   ]
  },
  {
   "cell_type": "markdown",
   "metadata": {},
   "source": [
    "* Eric Salvador Pérez García\n",
    "* José Antonio Castaño Guitiérrez \n",
    "* Fernando González Camarena "
   ]
  },
  {
   "cell_type": "markdown",
   "metadata": {},
   "source": [
    "## Objetivos"
   ]
  },
  {
   "cell_type": "markdown",
   "metadata": {},
   "source": [
    "> <font color = red>**Objetivos generales:**</font> Proporcionar un modelo de experimentación en procesos biotecnológicos.\n",
    "\n",
    "\n",
    "><font color = red>**Objetivos específicos:**</font> Describir el crecimiento de microorganismos, la formación de etanol y el consumo del sustrato."
   ]
  },
  {
   "cell_type": "markdown",
   "metadata": {},
   "source": [
    "## Descripción del problema"
   ]
  },
  {
   "cell_type": "markdown",
   "metadata": {},
   "source": [
    ">Se realizó una fermentación en lote a una temperatura de 34°C usando una cepa de Saccharomyces cerevisiae y concentración inicial de biomasa, sustrato y producto de 0.7, 131.221 y 8.424 kg/m3. El sustrato está conformado por melaza de caña de azúcar. El producto generado es etanol.\n"
   ]
  },
  {
   "cell_type": "markdown",
   "metadata": {},
   "source": [
    "## Simulaciones"
   ]
  },
  {
   "cell_type": "code",
   "execution_count": null,
   "metadata": {},
   "outputs": [],
   "source": []
  },
  {
   "cell_type": "markdown",
   "metadata": {},
   "source": [
    "## Visualización de resultados"
   ]
  },
  {
   "cell_type": "code",
   "execution_count": null,
   "metadata": {},
   "outputs": [],
   "source": []
  },
  {
   "cell_type": "markdown",
   "metadata": {},
   "source": [
    "## Conclusiones"
   ]
  },
  {
   "cell_type": "code",
   "execution_count": null,
   "metadata": {},
   "outputs": [],
   "source": []
  },
  {
   "cell_type": "markdown",
   "metadata": {},
   "source": [
    "## Referencias bibliográficas"
   ]
  },
  {
   "cell_type": "markdown",
   "metadata": {},
   "source": [
    "Andrade, R. R., Rivera, E. C., Atala, D. I., Filho, R. M., Filho, F. M., & Costa, A. C. (2009, January 6). Study of kinetic parameters in a mechanistic model for bioethanol production through a screening technique and optimization. Retrieved from https://sci-hub.tw/10.1007/s00449-008-0291-8"
   ]
  }
 ],
 "metadata": {
  "kernelspec": {
   "display_name": "Python 3",
   "language": "python",
   "name": "python3"
  },
  "language_info": {
   "codemirror_mode": {
    "name": "ipython",
    "version": 3
   },
   "file_extension": ".py",
   "mimetype": "text/x-python",
   "name": "python",
   "nbconvert_exporter": "python",
   "pygments_lexer": "ipython3",
   "version": "3.6.5"
  }
 },
 "nbformat": 4,
 "nbformat_minor": 2
}
